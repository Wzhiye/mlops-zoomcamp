{
 "cells": [
  {
   "cell_type": "code",
   "execution_count": 9,
   "id": "e99badfa",
   "metadata": {},
   "outputs": [],
   "source": [
    "import pandas as pd\n",
    "import sklearn\n",
    "import seaborn as sns\n",
    "import matplotlib.pyplot as plt\n",
    "from sklearn.feature_extraction import DictVectorizer\n",
    "from sklearn.linear_model import LinearRegression, Lasso\n",
    "from sklearn.metrics import mean_squared_error\n",
    "import joblib"
   ]
  },
  {
   "cell_type": "code",
   "execution_count": 21,
   "id": "0937634e",
   "metadata": {},
   "outputs": [
    {
     "data": {
      "text/plain": [
       "<Experiment: artifact_location='file:///c:/Users/wzhiy/OneDrive/Desktop/MLops/mlops-zoomcamp/02-Experiment_Tracking/mlruns/1', creation_time=1748169424951, experiment_id='1', last_update_time=1748169424951, lifecycle_stage='active', name='nyc-taxi-experiment', tags={}>"
      ]
     },
     "execution_count": 21,
     "metadata": {},
     "output_type": "execute_result"
    }
   ],
   "source": [
    "import mlflow\n",
    "\n",
    "mlflow.set_tracking_uri(\"sqlite:///mlfow.db\")\n",
    "mlflow.set_experiment(\"nyc-taxi-experiment\")"
   ]
  },
  {
   "cell_type": "markdown",
   "id": "9c0588ab",
   "metadata": {},
   "source": [
    "# Train the model"
   ]
  },
  {
   "cell_type": "code",
   "execution_count": 5,
   "id": "e4cec86e",
   "metadata": {},
   "outputs": [],
   "source": [
    "df = pd.read_parquet(\"../data/yellow_tripdata_2023-01.parquet\")\n",
    "df_val = pd.read_parquet(\"../data/yellow_tripdata_2023-02.parquet\")"
   ]
  },
  {
   "cell_type": "code",
   "execution_count": 6,
   "id": "2389a40f",
   "metadata": {},
   "outputs": [],
   "source": [
    "df.tpep_dropoff_datetime = pd.to_datetime(df.tpep_dropoff_datetime)\n",
    "df.tpep_pickup_datetime = pd.to_datetime(df.tpep_pickup_datetime)\n",
    "df['duration'] = df.tpep_dropoff_datetime - df.tpep_pickup_datetime\n",
    "df.duration = df.duration.apply(lambda td: td.total_seconds() / 60)\n",
    "df = df[(df.duration >= 1) & (df.duration <= 60)]\n",
    "df.duration.describe()\n",
    "categorical = ['PULocationID', 'DOLocationID']\n",
    "numerical = ['trip_distance']\n",
    "\n",
    "df[categorical] = df[categorical].astype(str)"
   ]
  },
  {
   "cell_type": "code",
   "execution_count": 8,
   "id": "16508ef8",
   "metadata": {},
   "outputs": [],
   "source": [
    "train_dict = df[categorical].to_dict(orient='records')\n",
    "dv = DictVectorizer()\n",
    "X_train = dv.fit_transform(train_dict)\n",
    "target = 'duration'\n",
    "y = df[target].values"
   ]
  },
  {
   "cell_type": "code",
   "execution_count": 14,
   "id": "411e0d83",
   "metadata": {},
   "outputs": [],
   "source": [
    "with mlflow.start_run():\n",
    "    mlflow.set_tag(\"developer\", \"wen\")\n",
    "    mlflow.log_param(\"train-data-path\", \"../data/yellow_tripdata_2023-01.parquet\")\n",
    "    mlflow.log_param(\"valid-data-path\", \"../data/yellow_tripdata_2023-02.parquet\")\n",
    "\n",
    "    alpha = 0.01\n",
    "    mlflow.log_param(\"alpha\", alpha)\n",
    "    lr = Lasso(alpha)\n",
    "    lr.fit(X_train, y)\n",
    "\n",
    "    y_pred = lr.predict(X_train)\n",
    "    rmse = mean_squared_error(y, y_pred, squared=False)\n",
    "    mlflow.log_metric(\"rmse\", rmse)        "
   ]
  },
  {
   "cell_type": "code",
   "execution_count": 11,
   "id": "8d8271e8",
   "metadata": {},
   "outputs": [
    {
     "data": {
      "text/plain": [
       "['linear_regression_model.joblib']"
      ]
     },
     "execution_count": 11,
     "metadata": {},
     "output_type": "execute_result"
    }
   ],
   "source": [
    "lr = LinearRegression()\n",
    "lr.fit(X_train, y)\n",
    "joblib.dump(lr, 'linear_regression_model.joblib')"
   ]
  },
  {
   "cell_type": "code",
   "execution_count": 12,
   "id": "7b8cd7d7",
   "metadata": {},
   "outputs": [],
   "source": [
    "y_pred = lr.predict(X_train)"
   ]
  },
  {
   "cell_type": "code",
   "execution_count": 13,
   "id": "9d7b07c0",
   "metadata": {},
   "outputs": [
    {
     "data": {
      "text/plain": [
       "7.649261954021325"
      ]
     },
     "execution_count": 13,
     "metadata": {},
     "output_type": "execute_result"
    }
   ],
   "source": [
    "mean_squared_error(y, y_pred, squared=False)"
   ]
  },
  {
   "cell_type": "markdown",
   "id": "d0b10507",
   "metadata": {},
   "source": [
    "# Run val set"
   ]
  },
  {
   "cell_type": "code",
   "execution_count": null,
   "id": "e9180747",
   "metadata": {},
   "outputs": [],
   "source": [
    "import pandas as pd\n",
    "import sklearn\n",
    "import seaborn as sns\n",
    "import matplotlib.pyplot as plt\n",
    "from sklearn.feature_extraction import DictVectorizer\n",
    "from sklearn.linear_model import LinearRegression\n",
    "from sklearn.metrics import mean_squared_error\n",
    "import joblib"
   ]
  },
  {
   "cell_type": "code",
   "execution_count": 20,
   "id": "5696159c",
   "metadata": {},
   "outputs": [],
   "source": [
    "lr = joblib.load('./linear_regression_model.joblib')"
   ]
  },
  {
   "cell_type": "code",
   "execution_count": 15,
   "id": "44283a17",
   "metadata": {},
   "outputs": [],
   "source": [
    "df_2 = pd.read_parquet(\"../data/yellow_tripdata_2023-02.parquet\")"
   ]
  },
  {
   "cell_type": "code",
   "execution_count": null,
   "id": "92618c8d",
   "metadata": {},
   "outputs": [],
   "source": [
    "\n",
    "df_2['tpep_pickup_datetime'] = pd.to_datetime(df_2['tpep_pickup_datetime'])\n",
    "df_2['tpep_dropoff_datetime'] = pd.to_datetime(df_2['tpep_dropoff_datetime'])\n",
    "df_2['duration'] = (df_2['tpep_dropoff_datetime'] - df_2['tpep_pickup_datetime']).dt.total_seconds() / 60\n",
    "df_2 = df_2[(df_2.duration >= 1) & (df_2.duration <= 60)].copy()\n",
    "df_2['PULocationID'] = df_2['PULocationID'].astype(str)\n",
    "df_2['DOLocationID'] = df_2['DOLocationID'].astype(str)\n",
    "val_dicts = df_2[categorical].to_dict(orient='records')\n",
    "X_val = dv.transform(val_dicts)\n",
    "y_val = df_2[target].values"
   ]
  },
  {
   "cell_type": "code",
   "execution_count": 22,
   "id": "9b4fb6ca",
   "metadata": {},
   "outputs": [
    {
     "data": {
      "text/plain": [
       "(2855951, 515)"
      ]
     },
     "execution_count": 22,
     "metadata": {},
     "output_type": "execute_result"
    }
   ],
   "source": [
    "X_val.shape"
   ]
  },
  {
   "cell_type": "code",
   "execution_count": 23,
   "id": "7f862578",
   "metadata": {},
   "outputs": [],
   "source": [
    "y_pred_val = lr.predict(X_val)"
   ]
  },
  {
   "cell_type": "code",
   "execution_count": 24,
   "id": "1a84458c",
   "metadata": {},
   "outputs": [
    {
     "data": {
      "text/plain": [
       "7.8118182188528005"
      ]
     },
     "execution_count": 24,
     "metadata": {},
     "output_type": "execute_result"
    }
   ],
   "source": [
    "mean_squared_error(y_val, y_pred_val, squared=False)"
   ]
  }
 ],
 "metadata": {
  "kernelspec": {
   "display_name": "mlops",
   "language": "python",
   "name": "python3"
  },
  "language_info": {
   "codemirror_mode": {
    "name": "ipython",
    "version": 3
   },
   "file_extension": ".py",
   "mimetype": "text/x-python",
   "name": "python",
   "nbconvert_exporter": "python",
   "pygments_lexer": "ipython3",
   "version": "3.9.21"
  }
 },
 "nbformat": 4,
 "nbformat_minor": 5
}
